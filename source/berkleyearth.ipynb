{
 "cells": [
  {
   "cell_type": "markdown",
   "id": "2ca02ed1",
   "metadata": {},
   "source": [
    "# Setup\n",
    "\n",
    "Import common modules. Ensure that Python and Scikit-Learn in proper versions are used."
   ]
  },
  {
   "cell_type": "code",
   "execution_count": 3,
   "id": "d7bd1af6",
   "metadata": {},
   "outputs": [],
   "source": [
    "import sys\n",
    "assert sys.version_info >= (3, 5)\n",
    "\n",
    "import sklearn\n",
    "assert sklearn.__version__ >= \"0.20\"\n",
    "\n",
    "import numpy as np\n",
    "import os\n",
    "\n",
    "# To plot pretty figures\n",
    "%matplotlib inline\n",
    "import matplotlib as mpl\n",
    "import matplotlib.pyplot as plt\n",
    "mpl.rc('axes', labelsize=14)\n",
    "mpl.rc('xtick', labelsize=12)\n",
    "mpl.rc('ytick', labelsize=12)\n"
   ]
  },
  {
   "cell_type": "markdown",
   "id": "bf18cfbe",
   "metadata": {},
   "source": [
    "# Load Data"
   ]
  },
  {
   "cell_type": "code",
   "execution_count": 10,
   "id": "0d08e530",
   "metadata": {},
   "outputs": [],
   "source": [
    "DATASET_PATH = \"./data\"\n",
    "BERKLEYEARTH_DATASETS = os.path.join(DATASET_PATH, \"berkeleyearth\")\n",
    "MONTHLY_ANOMALIES_PATH = os.path.join(BERKLEYEARTH_DATASETS, \"Raw_TAVG_complete.txt\")\n"
   ]
  },
  {
   "cell_type": "markdown",
   "id": "5c87ecb3",
   "metadata": {},
   "source": [
    "BerkleyEarth's data isn't hosted in csv format. This is a snipped how it looks like"
   ]
  },
  {
   "cell_type": "code",
   "execution_count": 13,
   "id": "b863a0ac",
   "metadata": {},
   "outputs": [
    {
     "name": "stdout",
     "output_type": "stream",
     "text": [
      "%               Monthly    Annual     Five-year  Ten-year   Twenty-year\n",
      "\n",
      "% Year, Month,  Anomaly,   Anomaly,   Anomaly,   Anomaly,   Anomaly\n",
      "\n",
      " \n",
      "\n",
      "  1750     1     2.166       NaN       NaN       NaN       NaN\n",
      "\n",
      "  1750     2     0.723     0.751       NaN       NaN       NaN\n",
      "\n"
     ]
    }
   ],
   "source": [
    "with open(MONTHLY_ANOMALIES_PATH, 'r') as f:\n",
    "    lines = f.readlines()\n",
    "    for line in range(45, 50):\n",
    "        print(lines[line])"
   ]
  },
  {
   "cell_type": "markdown",
   "id": "d17bcf61",
   "metadata": {},
   "source": [
    "We wan't to convert it into format that can be understand by pandas library"
   ]
  },
  {
   "cell_type": "code",
   "execution_count": 29,
   "id": "354546e4",
   "metadata": {},
   "outputs": [],
   "source": [
    "from pathlib import Path\n",
    "\n",
    "def berkleyearth_dataset_to_csv(be_dataset_path):\n",
    "    file_name = Path(be_dataset_path).stem\n",
    "    parent_dir = Path(be_dataset_path).parent\n",
    "    csv_file = os.path.join(parent_dir, f'{file_name}.csv')\n",
    "    \n",
    "    if os.path.exists(csv_file):\n",
    "        os.remove(csv_file)\n",
    "    \n",
    "    with open(be_dataset_path, 'r') as bf_raw, open(csv_file, 'w+') as csv:\n",
    "        pass\n",
    "    \n",
    "berkleyearth_dataset_to_csv(MONTHLY_ANOMALIES_PATH)"
   ]
  }
 ],
 "metadata": {
  "kernelspec": {
   "display_name": "Python 3 (ipykernel)",
   "language": "python",
   "name": "python3"
  },
  "language_info": {
   "codemirror_mode": {
    "name": "ipython",
    "version": 3
   },
   "file_extension": ".py",
   "mimetype": "text/x-python",
   "name": "python",
   "nbconvert_exporter": "python",
   "pygments_lexer": "ipython3",
   "version": "3.10.10"
  }
 },
 "nbformat": 4,
 "nbformat_minor": 5
}
